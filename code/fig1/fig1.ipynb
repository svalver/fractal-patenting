{
 "cells": [
  {
   "cell_type": "markdown",
   "id": "8579fbfa",
   "metadata": {},
   "source": [
    "# Code for Producing Figure 1  \n",
    "\n",
    "### From the paper:  \n",
    "**\"Fractal clusters and urban scaling shape spatial inequality in U.S. patenting\"**, published in npj Complexity,  https://doi.org/10.1038/s44260-025-00054-y\n",
    "\n",
    "**Authors:**  \n",
    "Salva Duran-Nebreda, Blai Vidiella,  R. Alexander Bentley and Sergi Valverde\n",
    "\n",
    "**Date:** September 8, 2025  \n",
    "**Location:** Barcelona  \n",
    "**Group:** Evolution of Networks Lab |  https://svalver.github.io  \n",
    "**E-mail:** svalver@gmail.com"
   ]
  },
  {
   "cell_type": "code",
   "execution_count": 2,
   "id": "84f5c192",
   "metadata": {},
   "outputs": [],
   "source": [
    "import powerlaw\n",
    "import pandas as pd\n",
    "import matplotlib.pyplot as plt\n",
    "import seaborn as sns\n",
    "import numpy as np\n",
    "from scipy.spatial.distance import pdist, euclidean\n",
    "from scipy.optimize import curve_fit\n",
    "\n",
    "def func_powerlaw(x, m, c):\n",
    "    return c*x**m\n",
    "\n",
    "def get_confidence_intervals(popt, pcov, alpha=0.05):\n",
    "    perr = np.sqrt(np.diag(pcov))\n",
    "    n_params = len(popt)\n",
    "    z = 1.96  # 95% confidence interval (alpha=0.05)\n",
    "    conf_intervals = []\n",
    "    for i in range(n_params):\n",
    "        conf_intervals.append((popt[i] - z * perr[i], popt[i] + z * perr[i]))\n",
    "    return conf_intervals"
   ]
  },
  {
   "cell_type": "code",
   "execution_count": 6,
   "id": "9c2649d6",
   "metadata": {},
   "outputs": [],
   "source": [
    "DATAFOLDER = \"../../data/\""
   ]
  },
  {
   "cell_type": "code",
   "execution_count": 9,
   "id": "833c0c01",
   "metadata": {},
   "outputs": [
    {
     "name": "stdout",
     "output_type": "stream",
     "text": [
      "apps2 US 15637 1356\n",
      "Calculating best minimal value for power law fit\n",
      "13 1356 1343s: 98%\n",
      "US Zipf exponent: -0.9718511197385404\n",
      "apps2 US  Truncated PL/Exponential Likelihood ratio:  92.93601013877272 p-value:  2.0159384277424004e-06\n",
      "apps2 US  Truncated PL/Power-law Likelihood ratio:  3.2626144344860366 p-value:  0.010635486248999126\n",
      "apps2 US  Truncated PL/Log-normal Likelihood ratio:  0.9039620871296075 p-value:  0.15602205442259684\n",
      "\n",
      "plugin2 US 3527 856\n",
      "Calculating best minimal value for power law fit\n",
      "8 856 848ress: 97%\n",
      "US Zipf exponent: -0.8776595230793157\n"
     ]
    },
    {
     "name": "stderr",
     "output_type": "stream",
     "text": [
      "Assuming nested distributions\n"
     ]
    },
    {
     "name": "stdout",
     "output_type": "stream",
     "text": [
      "plugin2 US  Truncated PL/Exponential Likelihood ratio:  46.96138553552258 p-value:  0.00016108980488463873\n",
      "plugin2 US  Truncated PL/Power-law Likelihood ratio:  2.0801723670510643 p-value:  0.04138098097231124\n",
      "plugin2 US  Truncated PL/Log-normal Likelihood ratio:  0.6982750741846067 p-value:  0.12655079700785773\n",
      "\n",
      "fracking US 3645 810\n"
     ]
    },
    {
     "name": "stderr",
     "output_type": "stream",
     "text": [
      "Assuming nested distributions\n"
     ]
    },
    {
     "name": "stdout",
     "output_type": "stream",
     "text": [
      "Calculating best minimal value for power law fit\n",
      "8 810 802ress: 97%\n",
      "US Zipf exponent: -1.0478335076128429\n",
      "fracking US  Truncated PL/Exponential Likelihood ratio:  116.17704799457567 p-value:  2.179755436171943e-05\n",
      "fracking US  Truncated PL/Power-law Likelihood ratio:  0.5054229418385849 p-value:  0.3147002767319643\n",
      "fracking US  Truncated PL/Log-normal Likelihood ratio:  0.3744763053597868 p-value:  0.20091639720777255\n",
      "\n",
      "ml US 14603 1520\n"
     ]
    },
    {
     "name": "stderr",
     "output_type": "stream",
     "text": [
      "Assuming nested distributions\n"
     ]
    },
    {
     "name": "stdout",
     "output_type": "stream",
     "text": [
      "Calculating best minimal value for power law fit\n",
      "15 1520 1505s: 98%\n",
      "US Zipf exponent: -1.0280103716850635\n",
      "ml US  Truncated PL/Exponential Likelihood ratio:  288.57321029900305 p-value:  4.0123923201777316e-11\n",
      "ml US  Truncated PL/Power-law Likelihood ratio:  3.8283807430582293 p-value:  0.0056559940545615195\n",
      "ml US  Truncated PL/Log-normal Likelihood ratio:  1.2564965371883363 p-value:  0.0976101723368495\n",
      "\n",
      "videogames US 11484 1307\n",
      "Calculating best minimal value for power law fit\n",
      "13 1307 1294s: 98%\n"
     ]
    },
    {
     "name": "stderr",
     "output_type": "stream",
     "text": [
      "Assuming nested distributions\n"
     ]
    },
    {
     "name": "stdout",
     "output_type": "stream",
     "text": [
      "US Zipf exponent: -1.123981288524385\n",
      "videogames US  Truncated PL/Exponential Likelihood ratio:  120.96855666675427 p-value:  6.003190505936379e-07\n",
      "videogames US  Truncated PL/Power-law Likelihood ratio:  1.770660287691916 p-value:  0.059857786641401844\n",
      "videogames US  Truncated PL/Log-normal Likelihood ratio:  1.0957332142579395 p-value:  0.025639483779453076\n",
      "\n"
     ]
    },
    {
     "name": "stderr",
     "output_type": "stream",
     "text": [
      "Assuming nested distributions\n"
     ]
    },
    {
     "name": "stdout",
     "output_type": "stream",
     "text": [
      "biotech US 34910 2464\n",
      "Calculating best minimal value for power law fit\n",
      "24 2464 2440s: 99%\n",
      "US Zipf exponent: -1.040660870805718\n",
      "biotech US  Truncated PL/Exponential Likelihood ratio:  100.81338547659352 p-value:  5.878308496519707e-06\n",
      "biotech US  Truncated PL/Power-law Likelihood ratio:  5.440436898509178 p-value:  0.0009716239637259649\n",
      "biotech US  Truncated PL/Log-normal Likelihood ratio:  1.664087438329311 p-value:  0.07013579451302937\n",
      "\n",
      "smartphone US 948 356\n",
      "Calculating best minimal value for power law fit\n",
      "3 356 353ress: 94%\n",
      "US Zipf exponent: -0.8328635014629123\n"
     ]
    },
    {
     "name": "stderr",
     "output_type": "stream",
     "text": [
      "Assuming nested distributions\n"
     ]
    },
    {
     "name": "stdout",
     "output_type": "stream",
     "text": [
      "smartphone US  Truncated PL/Exponential Likelihood ratio:  34.13648907997372 p-value:  0.00012444318558181892\n",
      "smartphone US  Truncated PL/Power-law Likelihood ratio:  1.013385638007565 p-value:  0.15454863275143316\n",
      "smartphone US  Truncated PL/Log-normal Likelihood ratio:  0.3803937790867753 p-value:  0.17027544417567986\n",
      "\n",
      "chips US 3045 413\n",
      "Calculating best minimal value for power law fit\n",
      "4 413 409ress: 97%\n",
      "US Zipf exponent: -1.0971356384332032\n"
     ]
    },
    {
     "name": "stderr",
     "output_type": "stream",
     "text": [
      "Assuming nested distributions\n"
     ]
    },
    {
     "name": "stdout",
     "output_type": "stream",
     "text": [
      "chips US  Truncated PL/Exponential Likelihood ratio:  145.32209761963585 p-value:  6.072369924056378e-11\n",
      "chips US  Truncated PL/Power-law Likelihood ratio:  1.4742971496016395 p-value:  0.0859522909827437\n",
      "chips US  Truncated PL/Log-normal Likelihood ratio:  1.0171372908569352 p-value:  0.008482131493520053\n",
      "\n"
     ]
    },
    {
     "name": "stderr",
     "output_type": "stream",
     "text": [
      "Assuming nested distributions\n"
     ]
    }
   ],
   "source": [
    "for dataset in ['apps2', 'plugin2', 'fracking', 'ml', 'videogames', 'biotech', 'smartphone', 'chips']:\n",
    "    df = pd.read_csv(DATAFOLDER + 'full_' + dataset + '.csv', encoding=\"latin-1\")\n",
    "\n",
    "    for i in range(len(df)):\n",
    "        if df.loc[i, 'country'] == 'USA':\n",
    "            df.loc[i, 'country'] = 'US'\n",
    "\n",
    "    for country in ['US']:#, 'JP']:\n",
    "        city_dict = {}\n",
    "        df_country = df[df['country'] == country]\n",
    "        df_country.reset_index(drop=True, inplace=True)\n",
    "\n",
    "        for i in range(len(df_country)):\n",
    "            city = (df_country.loc[i, 'longitude'], df_country.loc[i, 'latitude'])\n",
    "            if city not in city_dict:\n",
    "                city_dict[city] = 1\n",
    "            else:\n",
    "                city_dict[city] += 1\n",
    "\n",
    "        freq_rank = sorted(city_dict.values(), reverse=True)\n",
    "        print(dataset, country, len(df_country), len(freq_rank))\n",
    "        results = powerlaw.Fit(freq_rank, discrete=True)\n",
    "\n",
    "        plt.figure(figsize=(4.5,4.5))\n",
    "        string = results.power_law.alpha\n",
    "        xmin = results.xmin\n",
    "\n",
    "        x_start = int(len(freq_rank)/100)\n",
    "\n",
    "        fit_freq = freq_rank[x_start:]\n",
    "        print(x_start, len(freq_rank), len(fit_freq))\n",
    "        fit_rank = [x + x_start + 1 for x in range(len(fit_freq))]\n",
    "        popt, pcov = curve_fit(func_powerlaw, fit_rank, fit_freq, maxfev=10**5)\n",
    "        ci_power_law = get_confidence_intervals(popt, pcov)\n",
    "        error = ci_power_law[0][0] - popt[0]\n",
    "\n",
    "        fig_ccdf = results.plot_ccdf(label=\"CCDF\", color='b', marker='o', linewidth=0)\n",
    "        results.power_law.plot_ccdf(results.data, color='r', label=\"Fit\", ax=fig_ccdf)\n",
    "        plt.xlabel(\"Number of patents\")\n",
    "        plt.ylabel(\"Frequency\")\n",
    "        plt.title(dataset + ' ' +country+r' $, \\alpha=$' + str(round(string-1, 3)) + r'$\\pm$' + str(round(abs(error),4))\n",
    "                  +r' $, x_{min}=$' + str(round(xmin, 3)))#+r' $, x_{max}=$' + str(round(xmax, 3)))\n",
    "        plt.xscale('log')\n",
    "        plt.yscale('log')\n",
    "        plt.legend()\n",
    "        plt.savefig('./Final/CCDF_' + dataset + ' ' + country + '.png')\n",
    "        plt.close()\n",
    "\n",
    "        plt.figure(figsize=(4.5,4.5))\n",
    "        rank = [x + 1 for x in range(len(freq_rank))]\n",
    "\n",
    "        fit_freq = freq_rank[x_start:]\n",
    "        fit_rank = [x + x_start + 1 for x in range(len(fit_freq))]\n",
    "\n",
    "        popt, pcov = curve_fit(func_powerlaw, fit_rank, fit_freq, maxfev=10**5)\n",
    "        ci_power_law = get_confidence_intervals(popt, pcov)\n",
    "        error = ci_power_law[0][0] - popt[0]\n",
    "\n",
    "        print(country, 'Zipf exponent:', popt[0])\n",
    "        fig_fr = plt.plot(rank,freq_rank, color='b', marker='o', linewidth=0, label='Frequency Rank')\n",
    "        plt.plot(rank, func_powerlaw(rank, *popt), color='r', label='Fit')\n",
    "        plt.ylabel(\"Number of patents\")\n",
    "        plt.xlabel(\"Rank\")\n",
    "        plt.title(dataset + ' ' + country + r' $, \\alpha=$' + str(round(popt[0], 3)) + r'$\\pm$' + str(round(abs(error),4))\n",
    "                  + r' $, x_{min}=$' + str(round(xmin, 3)))  # +r' $, x_{max}=$' + str(round(xmax, 3)))\n",
    "        plt.xscale('log')\n",
    "        plt.yscale('log')\n",
    "        plt.legend()\n",
    "        plt.savefig('./Final/Zipf_' + dataset + ' ' + country + '.png')\n",
    "        plt.close()\n",
    "\n",
    "        R, p = results.distribution_compare('truncated_power_law', 'exponential')\n",
    "        print(dataset, country, ' Truncated PL/Exponential Likelihood ratio: ', R, 'p-value: ', p)\n",
    "\n",
    "        R, p = results.distribution_compare( 'truncated_power_law', 'power_law')\n",
    "        print(dataset, country, ' Truncated PL/Power-law Likelihood ratio: ', R, 'p-value: ', p)\n",
    "\n",
    "        R, p = results.distribution_compare('truncated_power_law', 'lognormal')\n",
    "        print(dataset, country, ' Truncated PL/Log-normal Likelihood ratio: ', R, 'p-value: ', p)\n",
    "        print()"
   ]
  }
 ],
 "metadata": {
  "kernelspec": {
   "display_name": "base",
   "language": "python",
   "name": "python3"
  },
  "language_info": {
   "codemirror_mode": {
    "name": "ipython",
    "version": 3
   },
   "file_extension": ".py",
   "mimetype": "text/x-python",
   "name": "python",
   "nbconvert_exporter": "python",
   "pygments_lexer": "ipython3",
   "version": "3.12.2"
  }
 },
 "nbformat": 4,
 "nbformat_minor": 5
}
