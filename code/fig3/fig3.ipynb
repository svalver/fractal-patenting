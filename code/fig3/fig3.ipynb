{
 "cells": [
  {
   "cell_type": "markdown",
   "id": "a898e557",
   "metadata": {},
   "source": [
    "# Code for Producing Figure 3  \n",
    "\n",
    "### From the paper:  \n",
    "**\"Fractal clusters and urban scaling shape spatial inequality in U.S. patenting\"**, published in npj Complexity,  https://doi.org/10.1038/s44260-025-00054-y\n",
    "\n",
    "**Authors:**  \n",
    "Salva Duran-Nebreda, Blai Vidiella,  R. Alexander Bentley and Sergi Valverde\n",
    "\n",
    "**Date:** September 8, 2025  \n",
    "**Location:** Barcelona  \n",
    "**Group:** Evolution of Networks Lab |  https://svalver.github.io  \n",
    "**E-mail:** svalver@gmail.com"
   ]
  },
  {
   "cell_type": "code",
   "execution_count": null,
   "id": "c9dbc761",
   "metadata": {},
   "outputs": [],
   "source": [
    "import numpy as np\n",
    "import matplotlib.pyplot as plt\n",
    "from mpl_toolkits.basemap import Basemap\n",
    "import pandas as pd\n",
    "import seaborn as sns\n",
    "from scipy.spatial.distance import pdist, euclidean\n",
    "\n",
    "light_gray = [0.7]*3  # define light gray color RGB\n",
    "light_gray2 = [0.5]*3  # define light gray color RGB\n",
    "dark_gray = [0.2]*3  # define light gray color RGB"
   ]
  },
  {
   "cell_type": "code",
   "execution_count": 3,
   "id": "42a842d6",
   "metadata": {},
   "outputs": [],
   "source": [
    "DATAFOLDER = \"../../data/\""
   ]
  },
  {
   "cell_type": "code",
   "execution_count": 5,
   "id": "a52f4ea5",
   "metadata": {},
   "outputs": [
    {
     "data": {
      "image/png": "[encoded data removed]",
      "text/plain": [
       "<Figure size 130x130 with 1 Axes>"
      ]
     },
     "metadata": {},
     "output_type": "display_data"
    },
    {
     "data": {
      "image/png": "[encoded data removed]",
      "text/plain": [
       "<Figure size 130x130 with 1 Axes>"
      ]
     },
     "metadata": {},
     "output_type": "display_data"
    }
   ],
   "source": [
    "for dataset in ['videogames', 'biotech']:\n",
    "    #Big picture\n",
    "    fig, ax = plt.subplots(figsize=(6,4.5))\n",
    "\n",
    "    # Lambert Conformal map of lower 48 states.\n",
    "    m = Basemap(llcrnrlon=-119,llcrnrlat=20,urcrnrlon=-64,urcrnrlat=49,\n",
    "                projection='lcc',lat_1=33,lat_2=45,lon_0=-95, resolution=\"l\")\n",
    "\n",
    "    #%% ---------   draw state boundaries  ----------------------------------------\n",
    "    ## data from U.S Census Bureau\n",
    "    ## http://www.census.gov/geo/www/cob/st2000.html\n",
    "    shp_info = m.readshapefile('st99_d00','states', drawbounds=True,\n",
    "                               linewidth=0.5, color=light_gray)\n",
    "    # draw country outline (coast+boundaries)\n",
    "    m.drawcountries(linewidth=0.9, linestyle='solid', color=dark_gray, antialiased=True, ax=ax, zorder=None)\n",
    "    m.drawcoastlines(linewidth=0.9, linestyle='solid', color=dark_gray, antialiased=True, ax=ax, zorder=None)\n",
    "\n",
    "    # get patent lat longs and compute patenting intensity\n",
    "    df = pd.read_csv(DATAFOLDER + 'full_' + dataset + '.csv', encoding=\"latin-1\")\n",
    "\n",
    "    for i in range(len(df)):\n",
    "        if df.loc[i, 'country'] == 'USA':\n",
    "            df.loc[i, 'country'] = 'US'\n",
    "\n",
    "    city_dict = {}\n",
    "    df_country = df[df['country'] == 'US']\n",
    "    df_country.reset_index(drop=True, inplace=True)\n",
    "\n",
    "    for i in range(len(df_country)):\n",
    "        city = (df_country.loc[i, 'longitude'], df_country.loc[i, 'latitude'])\n",
    "        if city not in city_dict:\n",
    "            city_dict[city] = 1\n",
    "        else:\n",
    "            city_dict[city] += 1\n",
    "\n",
    "    di = {k: v for k, v in sorted(city_dict.items(), key=lambda item: item[1])}\n",
    "    lats = []\n",
    "    lons = []\n",
    "    intensity = []\n",
    "    sizes = []\n",
    "    for city in di:\n",
    "        lons.append(city[0])\n",
    "        lats.append(city[1])\n",
    "        intensity.append(np.log10(city_dict[city]))\n",
    "        sizes.append(20*np.log10(city_dict[city]))\n",
    "    m.scatter(lons, lats, c=intensity, s=sizes, cmap=sns.color_palette(\"flare\", as_cmap=True), latlon=True, zorder=3)\n",
    "\n",
    "    plt.title(dataset)\n",
    "    plt.colorbar()\n",
    "    plt.savefig(dataset + '.pdf')\n",
    "    plt.savefig(dataset + '.png')\n",
    "    plt.close()\n",
    "\n",
    "    #Zoom\n",
    "    fig, ax = plt.subplots(figsize=(1.3,1.3))\n",
    "    if dataset == 'biotech':\n",
    "        # Lambert Conformal map of lower 48 states.\n",
    "        m = Basemap(llcrnrlon=-74,llcrnrlat=40.5,urcrnrlon=-70,urcrnrlat=42.5,\n",
    "                projection='lcc',lat_1=33,lat_2=45,lon_0=-95, resolution=\"l\")\n",
    "        lon_bounds = [-74,-70]\n",
    "        lat_bounds = [40.5, 42.5]\n",
    "    else:\n",
    "        m = Basemap(llcrnrlon=-122.5,llcrnrlat=35.5,urcrnrlon=-119,urcrnrlat=40.5,\n",
    "                projection='lcc',lat_1=33,lat_2=45,lon_0=-95, resolution=\"l\")\n",
    "        lon_bounds = [-122,-119.5]\n",
    "        lat_bounds = [35.5, 40.5]\n",
    "\n",
    "    #%% ---------   draw state boundaries  ----------------------------------------\n",
    "    shp_info = m.readshapefile('st99_d00','states', drawbounds=True,\n",
    "                               linewidth=1, color=light_gray)\n",
    "\n",
    "    # get patent lat longs and compute patenting intensity\n",
    "    df = pd.read_csv(DATAFOLDER + 'full_' + dataset + '.csv', encoding=\"latin-1\")\n",
    "    for i in range(len(df)):\n",
    "        if df.loc[i, 'country'] == 'USA':\n",
    "            df.loc[i, 'country'] = 'US'\n",
    "\n",
    "    cities = []\n",
    "    df_country = df[df['country'] == 'US']\n",
    "    df_country.reset_index(drop=True, inplace=True)\n",
    "\n",
    "    for i in range(len(df_country)):\n",
    "        city = (df_country.loc[i, 'longitude'], df_country.loc[i, 'latitude'])\n",
    "        if city not in cities:\n",
    "            if city[0] > lon_bounds[0] and city[0] < lon_bounds[1]:\n",
    "                if city[1] > lat_bounds[0] and city[1] < lat_bounds[1]:\n",
    "                    cities.append(city)\n",
    "\n",
    "    lats = []\n",
    "    lons = []\n",
    "    for city in cities:\n",
    "        lons.append(city[0])\n",
    "        lats.append(city[1])\n",
    "\n",
    "    m.scatter(lons, lats, color=light_gray2, s=2.2, latlon=True, zorder=3)\n",
    "\n",
    "    dcrit = 0.1\n",
    "    for i, a in enumerate(cities):\n",
    "        for j, b in enumerate(cities):\n",
    "            if i != j and euclidean(a, b) <= dcrit:\n",
    "                m.plot([a[0],b[0]], [a[1],b[1]], '-', color=dark_gray, latlon=True, zorder=4, linewidth=1)\n",
    "\n",
    "\n",
    "    #plt.title(dataset+' zoom')\n",
    "    plt.savefig(dataset+' color zoom' + str(dcrit) + '.pdf')\n",
    "    plt.savefig(dataset+' color zoom' + str(dcrit) + '.png', dpi=600)"
   ]
  }
 ],
 "metadata": {
  "kernelspec": {
   "display_name": "base",
   "language": "python",
   "name": "python3"
  },
  "language_info": {
   "codemirror_mode": {
    "name": "ipython",
    "version": 3
   },
   "file_extension": ".py",
   "mimetype": "text/x-python",
   "name": "python",
   "nbconvert_exporter": "python",
   "pygments_lexer": "ipython3",
   "version": "3.12.2"
  }
 },
 "nbformat": 4,
 "nbformat_minor": 5
}
